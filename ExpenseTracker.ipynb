{
 "cells": [
  {
   "cell_type": "code",
   "execution_count": 8,
   "metadata": {},
   "outputs": [
    {
     "name": "stdout",
     "output_type": "stream",
     "text": [
      "Exported data for January to fake_expense_data_jan.csv\n",
      "Exported data for February to fake_expense_data_feb.csv\n",
      "Exported data for March to fake_expense_data_mar.csv\n",
      "Exported data for April to fake_expense_data_apr.csv\n",
      "Exported data for May to fake_expense_data_may.csv\n",
      "Exported data for June to fake_expense_data_jun.csv\n",
      "Exported data for July to fake_expense_data_jul.csv\n",
      "Exported data for August to fake_expense_data_aug.csv\n",
      "Exported data for September to fake_expense_data_sep.csv\n",
      "Exported data for October to fake_expense_data_oct.csv\n",
      "Exported data for November to fake_expense_data_nov.csv\n",
      "Exported data for December to fake_expense_data_dec.csv\n"
     ]
    }
   ],
   "source": [
    "import pandas as pd\n",
    "import random\n",
    "from faker import Faker\n",
    "import calendar\n",
    "\n",
    "# Initialize Faker\n",
    "fake = Faker()\n",
    "\n",
    "# Define categories and payment modes\n",
    "categories = [\"Groceries\", \"Stationary\", \"Bills\", \"Subscription\", \"Investment\", \"Entertainment\", \"Healthcare\", \"Food\", \"Travel\"]\n",
    "payment_mode = [\"UPI\", \"Cash\", \"Debit Card\", \"Credit Card\"]\n",
    "\n",
    "# Function to generate expense data for a given month\n",
    "def gen_expenses_for_month(year, month, num_entries=150):\n",
    "    _, last_day = calendar.monthrange(year, month)  # Get the last day of the month\n",
    "    data = []\n",
    "    for _ in range(num_entries):\n",
    "        expense = {\n",
    "            \"Date\": fake.date_between(start_date=pd.Timestamp(f'{year}-{month:02d}-01'),\n",
    "                                      end_date=pd.Timestamp(f'{year}-{month:02d}-{last_day}')).strftime('%Y-%m-%d'),\n",
    "            \"Category\": random.choice(categories),\n",
    "            \"Payment_mode\": random.choice(payment_mode),\n",
    "            \"Description\": fake.sentence(),\n",
    "            \"Amount\": round(random.uniform(10, 1000), 2),\n",
    "            \"Cashback\": round(fake.random_number(digits=2) / 100, 2) if random.choice(payment_mode) != 'Cash' else 0.00\n",
    "        }\n",
    "        data.append(expense)\n",
    "    return pd.DataFrame(data)\n",
    "\n",
    "# Generate data for each month and export to CSV\n",
    "def generate_and_export_all(year, num_entries=150):\n",
    "    for month in range(1, 13):  # Iterate through months 1 to 12\n",
    "        df = gen_expenses_for_month(year, month, num_entries)\n",
    "        filename = f\"fake_expense_data_{calendar.month_abbr[month].lower()}.csv\"\n",
    "        df.to_csv(filename, index=False)\n",
    "        print(f\"Exported data for {calendar.month_name[month]} to {filename}\")\n",
    "\n",
    "# Generate and export data for 2024\n",
    "generate_and_export_all(2024, 150)\n"
   ]
  },
  {
   "cell_type": "markdown",
   "metadata": {},
   "source": [
    "# Merge 12csv into single csv"
   ]
  },
  {
   "cell_type": "code",
   "execution_count": 9,
   "metadata": {},
   "outputs": [
    {
     "name": "stdout",
     "output_type": "stream",
     "text": [
      "Merged CSV file has been saved as 'merged_expense_data.csv'\n"
     ]
    }
   ],
   "source": [
    "# Merge 12csv into single csv\n",
    "import pandas as pd\n",
    "import os\n",
    "\n",
    "# Folder containing the CSV files\n",
    "csv_folder = \"D:/Streamlit\"  # Update with the path to your folder\n",
    "\n",
    "# List to store DataFrames\n",
    "dataframes = []\n",
    "\n",
    "# Loop through all CSV files in the folder\n",
    "for file in os.listdir(csv_folder):\n",
    "    if file.endswith(\".csv\"):  # Check if the file is a CSV\n",
    "        file_path = os.path.join(csv_folder, file)\n",
    "        df = pd.read_csv(file_path)  # Read CSV into a DataFrame\n",
    "        dataframes.append(df)  # Add DataFrame to the list\n",
    "\n",
    "# Merge all DataFrames into one\n",
    "merged_data = pd.concat(dataframes, ignore_index=True)\n",
    "\n",
    "# Save the merged DataFrame to a new CSV\n",
    "merged_data.to_csv(\"merged_expense_data.csv\", index=False)\n",
    "\n",
    "print(\"Merged CSV file has been saved as 'merged_expense_data.csv'\")\n"
   ]
  },
  {
   "cell_type": "markdown",
   "metadata": {},
   "source": [
    "# Import CSV data into MYSQL"
   ]
  },
  {
   "cell_type": "code",
   "execution_count": 10,
   "metadata": {},
   "outputs": [
    {
     "name": "stderr",
     "output_type": "stream",
     "text": [
      "C:\\Users\\ElakkiyaManavalan\\AppData\\Local\\Temp\\ipykernel_12912\\120314881.py:24: UserWarning: The argument 'infer_datetime_format' is deprecated and will be removed in a future version. A strict version of it is now the default, see https://pandas.pydata.org/pdeps/0004-consistent-to-datetime-parsing.html. You can safely remove this argument.\n",
      "  df['Date'] = pd.to_datetime(df['Date'], errors='coerce', infer_datetime_format=True).dt.strftime('%y-%m-%d')\n"
     ]
    },
    {
     "name": "stdout",
     "output_type": "stream",
     "text": [
      "CSV data has been imported into the MySQL table.\n"
     ]
    }
   ],
   "source": [
    "# Import CSV data into MYSQL\n",
    "import pandas as pd\n",
    "import pymysql\n",
    "\n",
    "# Connect to MySQL Database\n",
    "conn = pymysql.connect(\n",
    "    host=\"localhost\",\n",
    "    user=\"root\",          # or your MySQL username\n",
    "    password=\"12345678\",  # your MySQL password\n",
    "    database=\"EXPENSE_DB\" , # your MySQL database name\n",
    "    connect_timeout=300 \n",
    ")\n",
    "\n",
    "cursor = conn.cursor()\n",
    "\n",
    "# Read CSV file into DataFrame\n",
    "csv_file_path = 'D:/Streamlit/merged_expense_data.csv'\n",
    "df = pd.read_csv(csv_file_path)\n",
    "\n",
    "# Format Amount to 2 decimal places\n",
    "df['Amount'] = df['Amount'].fillna(0).map('{:.2f}'.format)\n",
    "\n",
    "# Ensure date format conversion to the correct format (auto-infer datetime format)\n",
    "df['Date'] = pd.to_datetime(df['Date'], errors='coerce', infer_datetime_format=True).dt.strftime('%y-%m-%d')\n",
    "\n",
    "# Select the database\n",
    "conn.select_db(\"EXPENSE_DB\")\n",
    "\n",
    "# Create the table if it doesn't exist\n",
    "cursor.execute('''\n",
    "    CREATE TABLE IF NOT EXISTS expense_data (\n",
    "        id INT AUTO_INCREMENT PRIMARY KEY,\n",
    "        Date DATE NOT NULL,\n",
    "        Category VARCHAR(50) NOT NULL,\n",
    "        Payment_mode VARCHAR(50) NOT NULL,\n",
    "        Description VARCHAR(255),\n",
    "        Amount DECIMAL(10, 2) NOT NULL,\n",
    "        Cashback DECIMAL(10, 2) NOT NULL\n",
    "    )\n",
    "''')\n",
    "\n",
    "# Insert data from CSV into the table\n",
    "insert_query = '''\n",
    "    INSERT INTO expense_data (Date, Category, Payment_mode, Description, Amount, Cashback)\n",
    "    VALUES (%s, %s, %s, %s, %s, %s)\n",
    "'''\n",
    "\n",
    "for index, row in df.iterrows():\n",
    "    cursor.execute(insert_query, (\n",
    "        row['Date'],  # Use the correctly formatted Date\n",
    "        row['Category'],\n",
    "        row['Payment_mode'],\n",
    "        row['Description'],\n",
    "        row['Amount'],\n",
    "        row['Cashback']  \n",
    "    ))\n",
    "\n",
    "# Commit the transaction\n",
    "conn.commit()\n",
    "\n",
    "# Close the cursor and connection\n",
    "cursor.close()\n",
    "conn.close()\n",
    "\n",
    "print(\"CSV data has been imported into the MySQL table.\")"
   ]
  },
  {
   "cell_type": "code",
   "execution_count": 2,
   "metadata": {},
   "outputs": [
    {
     "name": "stdout",
     "output_type": "stream",
     "text": [
      "Connection successful!\n"
     ]
    }
   ],
   "source": [
    "import pymysql\n",
    "\n",
    "# Database connection\n",
    "conn = pymysql.connect(\n",
    "    host=\"localhost\",\n",
    "    user=\"root\",\n",
    "    password=\"12345678\"\n",
    ")\n",
    "\n",
    "print(\"Connection successful!\")"
   ]
  },
  {
   "cell_type": "code",
   "execution_count": 3,
   "metadata": {},
   "outputs": [],
   "source": [
    "mycursor=conn.cursor()"
   ]
  },
  {
   "cell_type": "code",
   "execution_count": null,
   "metadata": {},
   "outputs": [],
   "source": [
    "mycursor.execute(\"CREATE DATABASE EXPENSE1\")\n"
   ]
  },
  {
   "cell_type": "code",
   "execution_count": 6,
   "metadata": {},
   "outputs": [
    {
     "data": {
      "text/plain": [
       "0"
      ]
     },
     "execution_count": 6,
     "metadata": {},
     "output_type": "execute_result"
    }
   ],
   "source": [
    "mycursor.execute(\"USE EXPENSE1\")"
   ]
  },
  {
   "cell_type": "code",
   "execution_count": null,
   "metadata": {},
   "outputs": [],
   "source": []
  }
 ],
 "metadata": {
  "kernelspec": {
   "display_name": ".venv",
   "language": "python",
   "name": "python3"
  },
  "language_info": {
   "codemirror_mode": {
    "name": "ipython",
    "version": 3
   },
   "file_extension": ".py",
   "mimetype": "text/x-python",
   "name": "python",
   "nbconvert_exporter": "python",
   "pygments_lexer": "ipython3",
   "version": "3.13.1"
  }
 },
 "nbformat": 4,
 "nbformat_minor": 2
}
